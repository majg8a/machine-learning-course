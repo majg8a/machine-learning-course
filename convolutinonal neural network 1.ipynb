{
 "cells": [
  {
   "cell_type": "code",
   "execution_count": 2,
   "metadata": {},
   "outputs": [],
   "source": [
    "import pandas as pd\n",
    "import numpy as np\n",
    "import matplotlib as mpl\n",
    "import matplotlib.pyplot as plt"
   ]
  },
  {
   "cell_type": "code",
   "execution_count": 3,
   "metadata": {},
   "outputs": [],
   "source": [
    "import tensorflow as tf\n",
    "from tensorflow import keras"
   ]
  },
  {
   "cell_type": "code",
   "execution_count": 4,
   "metadata": {},
   "outputs": [],
   "source": [
    "fashion_mnist =  keras.datasets.fashion_mnist\n",
    "(x_train_full,y_train_full),(x_test,y_test) = fashion_mnist.load_data()"
   ]
  },
  {
   "cell_type": "markdown",
   "metadata": {},
   "source": [
    "0\tT-shirt/top\n",
    "1\tTrouser\n",
    "2\tPullover\n",
    "3\tDress\n",
    "4\tCoat\n",
    "5\tSandal\n",
    "6\tShirt\n",
    "7\tSneaker\n",
    "8\tBag\n",
    "9\tAnkle boot"
   ]
  },
  {
   "cell_type": "code",
   "execution_count": 5,
   "metadata": {},
   "outputs": [],
   "source": [
    "class_names = [\"0 T-shirt/top\", \n",
    "               \"1 Trouser\", \n",
    "               \"2 Pullover\", \n",
    "               \"3 Dress\",\n",
    "               \"4 Coat\", \n",
    "               \"5 Sandal\",\n",
    "               \"6 Shirt\", \n",
    "               \"7 Sneaker\", \n",
    "               \"8 Bag\", \n",
    "               \"9 Ankle boot\"]"
   ]
  },
  {
   "cell_type": "code",
   "execution_count": 7,
   "metadata": {},
   "outputs": [],
   "source": [
    "x_train_full = x_train_full.reshape((60000,28,28,1))\n",
    "x_test = x_test.reshape((10000,28,28,1))\n"
   ]
  },
  {
   "cell_type": "code",
   "execution_count": 19,
   "metadata": {},
   "outputs": [],
   "source": [
    "x_train_n = x_train_full / 255.\n",
    "x_test_n = x_test / 255."
   ]
  },
  {
   "cell_type": "code",
   "execution_count": 21,
   "metadata": {},
   "outputs": [],
   "source": [
    "x_valid, x_train = x_train_n[:5000], x_train_n[5000:]\n",
    "y_valid, y_train = y_train_full[:5000], y_train_full[5000:]\n",
    "x_test = x_test_n"
   ]
  },
  {
   "cell_type": "code",
   "execution_count": 22,
   "metadata": {},
   "outputs": [],
   "source": [
    "np.random.seed(42)\n",
    "tf.random.set_seed(42)"
   ]
  },
  {
   "cell_type": "code",
   "execution_count": 23,
   "metadata": {},
   "outputs": [],
   "source": [
    "model = keras.models.Sequential()\n",
    "model.add(keras.layers.Conv2D(filters = 32 ,\n",
    "                              kernel_size = (3,3) , \n",
    "                              strides = 1 ,\n",
    "                              padding = 'valid',\n",
    "                              activation=\"relu\",\n",
    "                              input_shape=(28,28,1)))\n",
    "model.add(keras.layers.MaxPool2D(2,2))\n",
    "\n",
    "model.add(keras.layers.Flatten())\n",
    "model.add(keras.layers.Dense(300,activation=\"relu\"))\n",
    "model.add(keras.layers.Dense(100,activation=\"relu\"))\n",
    "model.add(keras.layers.Dense(10,activation=\"softmax\"))"
   ]
  },
  {
   "cell_type": "code",
   "execution_count": 25,
   "metadata": {},
   "outputs": [
    {
     "name": "stdout",
     "output_type": "stream",
     "text": [
      "Model: \"sequential\"\n",
      "_________________________________________________________________\n",
      "Layer (type)                 Output Shape              Param #   \n",
      "=================================================================\n",
      "conv2d (Conv2D)              (None, 26, 26, 32)        320       \n",
      "_________________________________________________________________\n",
      "max_pooling2d (MaxPooling2D) (None, 13, 13, 32)        0         \n",
      "_________________________________________________________________\n",
      "flatten (Flatten)            (None, 5408)              0         \n",
      "_________________________________________________________________\n",
      "dense (Dense)                (None, 300)               1622700   \n",
      "_________________________________________________________________\n",
      "dense_1 (Dense)              (None, 100)               30100     \n",
      "_________________________________________________________________\n",
      "dense_2 (Dense)              (None, 10)                1010      \n",
      "=================================================================\n",
      "Total params: 1,654,130\n",
      "Trainable params: 1,654,130\n",
      "Non-trainable params: 0\n",
      "_________________________________________________________________\n"
     ]
    }
   ],
   "source": [
    "model.summary()"
   ]
  },
  {
   "cell_type": "code",
   "execution_count": 26,
   "metadata": {},
   "outputs": [],
   "source": [
    "model.compile(loss=\"sparse_categorical_crossentropy\",optimizer=\"sgd\",metrics=[\"accuracy\"])"
   ]
  },
  {
   "cell_type": "code",
   "execution_count": 35,
   "metadata": {},
   "outputs": [
    {
     "name": "stdout",
     "output_type": "stream",
     "text": [
      "Epoch 1/30\n",
      "860/860 [==============================] - 23s 27ms/step - loss: 0.5948 - accuracy: 0.7791 - val_loss: 0.5840 - val_accuracy: 0.7902\n",
      "Epoch 2/30\n",
      "860/860 [==============================] - 25s 29ms/step - loss: 0.5902 - accuracy: 0.7808 - val_loss: 0.5719 - val_accuracy: 0.7928\n",
      "Epoch 3/30\n",
      "860/860 [==============================] - 25s 29ms/step - loss: 0.5864 - accuracy: 0.7823 - val_loss: 0.6215 - val_accuracy: 0.7596\n",
      "Epoch 4/30\n",
      "860/860 [==============================] - 24s 28ms/step - loss: 0.5821 - accuracy: 0.7854 - val_loss: 0.5708 - val_accuracy: 0.7956\n",
      "Epoch 5/30\n",
      "860/860 [==============================] - 21s 25ms/step - loss: 0.5788 - accuracy: 0.7873 - val_loss: 0.5604 - val_accuracy: 0.7992\n",
      "Epoch 6/30\n",
      "860/860 [==============================] - 21s 25ms/step - loss: 0.5745 - accuracy: 0.7883 - val_loss: 0.5593 - val_accuracy: 0.8010\n",
      "Epoch 7/30\n",
      "860/860 [==============================] - 22s 25ms/step - loss: 0.5715 - accuracy: 0.7897 - val_loss: 0.5531 - val_accuracy: 0.8024\n",
      "Epoch 8/30\n",
      "860/860 [==============================] - 20s 23ms/step - loss: 0.5676 - accuracy: 0.7912 - val_loss: 0.6345 - val_accuracy: 0.7510\n",
      "Epoch 9/30\n",
      "860/860 [==============================] - 19s 22ms/step - loss: 0.5642 - accuracy: 0.7934 - val_loss: 0.5494 - val_accuracy: 0.8050\n",
      "Epoch 10/30\n",
      "860/860 [==============================] - 17s 20ms/step - loss: 0.5607 - accuracy: 0.7963 - val_loss: 0.5524 - val_accuracy: 0.8028\n",
      "Epoch 11/30\n",
      "860/860 [==============================] - 17s 20ms/step - loss: 0.5563 - accuracy: 0.7969 - val_loss: 0.5693 - val_accuracy: 0.7900\n",
      "Epoch 12/30\n",
      "860/860 [==============================] - 17s 19ms/step - loss: 0.5534 - accuracy: 0.7987 - val_loss: 0.5658 - val_accuracy: 0.7982\n",
      "Epoch 13/30\n",
      "860/860 [==============================] - 14s 17ms/step - loss: 0.5503 - accuracy: 0.7992 - val_loss: 0.5388 - val_accuracy: 0.8094\n",
      "Epoch 14/30\n",
      "860/860 [==============================] - 13s 15ms/step - loss: 0.5467 - accuracy: 0.8018 - val_loss: 0.5432 - val_accuracy: 0.8034\n",
      "Epoch 15/30\n",
      "860/860 [==============================] - 12s 14ms/step - loss: 0.5433 - accuracy: 0.8023 - val_loss: 0.5346 - val_accuracy: 0.8106\n",
      "Epoch 16/30\n",
      "860/860 [==============================] - 12s 14ms/step - loss: 0.5410 - accuracy: 0.8046 - val_loss: 0.5323 - val_accuracy: 0.8076\n",
      "Epoch 17/30\n",
      "860/860 [==============================] - 12s 14ms/step - loss: 0.5387 - accuracy: 0.8046 - val_loss: 0.5336 - val_accuracy: 0.8094\n",
      "Epoch 18/30\n",
      "860/860 [==============================] - 12s 14ms/step - loss: 0.5357 - accuracy: 0.8055 - val_loss: 0.5178 - val_accuracy: 0.8188\n",
      "Epoch 19/30\n",
      "860/860 [==============================] - 12s 14ms/step - loss: 0.5322 - accuracy: 0.8069 - val_loss: 0.5385 - val_accuracy: 0.8124\n",
      "Epoch 20/30\n",
      "860/860 [==============================] - 12s 14ms/step - loss: 0.5295 - accuracy: 0.8087 - val_loss: 0.5221 - val_accuracy: 0.8114\n",
      "Epoch 21/30\n",
      "860/860 [==============================] - 12s 14ms/step - loss: 0.5271 - accuracy: 0.8084 - val_loss: 0.5096 - val_accuracy: 0.8198\n",
      "Epoch 22/30\n",
      "860/860 [==============================] - 12s 14ms/step - loss: 0.5239 - accuracy: 0.8097 - val_loss: 0.5106 - val_accuracy: 0.8224\n",
      "Epoch 23/30\n",
      "860/860 [==============================] - 12s 14ms/step - loss: 0.5213 - accuracy: 0.8110 - val_loss: 0.5071 - val_accuracy: 0.8250\n",
      "Epoch 24/30\n",
      "860/860 [==============================] - 13s 15ms/step - loss: 0.5186 - accuracy: 0.8120 - val_loss: 0.5062 - val_accuracy: 0.8238\n",
      "Epoch 25/30\n",
      "860/860 [==============================] - 12s 14ms/step - loss: 0.5166 - accuracy: 0.8126 - val_loss: 0.5084 - val_accuracy: 0.8206\n",
      "Epoch 26/30\n",
      "860/860 [==============================] - 13s 15ms/step - loss: 0.5152 - accuracy: 0.8144 - val_loss: 0.5059 - val_accuracy: 0.8210\n",
      "Epoch 27/30\n",
      "860/860 [==============================] - 12s 14ms/step - loss: 0.5126 - accuracy: 0.8147 - val_loss: 0.4964 - val_accuracy: 0.8308\n",
      "Epoch 28/30\n",
      "860/860 [==============================] - 12s 14ms/step - loss: 0.5105 - accuracy: 0.8165 - val_loss: 0.4975 - val_accuracy: 0.8300\n",
      "Epoch 29/30\n",
      "860/860 [==============================] - 12s 14ms/step - loss: 0.5074 - accuracy: 0.8180 - val_loss: 0.4944 - val_accuracy: 0.8242\n",
      "Epoch 30/30\n",
      "860/860 [==============================] - 12s 14ms/step - loss: 0.5101 - accuracy: 0.8169 - val_loss: 0.5247 - val_accuracy: 0.8178\n"
     ]
    }
   ],
   "source": [
    "model_history = model.fit(x_train,y_train,epochs=30,batch_size = 64,validation_data = (x_valid,y_valid))"
   ]
  },
  {
   "cell_type": "code",
   "execution_count": 36,
   "metadata": {},
   "outputs": [
    {
     "data": {
      "image/png": "[encoded data removed]",
      "text/plain": [
       "<Figure size 576x360 with 1 Axes>"
      ]
     },
     "metadata": {
      "needs_background": "light"
     },
     "output_type": "display_data"
    }
   ],
   "source": [
    "pd.DataFrame(model_history.history).plot(figsize=(8,5))\n",
    "plt.grid(True)\n",
    "plt.gca().set_ylim(0,1)\n",
    "plt.show()"
   ]
  },
  {
   "cell_type": "code",
   "execution_count": 37,
   "metadata": {},
   "outputs": [
    {
     "name": "stdout",
     "output_type": "stream",
     "text": [
      "313/313 [==============================] - 3s 9ms/step - loss: 0.5582 - accuracy: 0.7973\n"
     ]
    }
   ],
   "source": [
    "ev = model.evaluate(x_test_n,y_test)"
   ]
  },
  {
   "cell_type": "code",
   "execution_count": 38,
   "metadata": {},
   "outputs": [
    {
     "data": {
      "text/plain": [
       "[0.5582469701766968, 0.7972999811172485]"
      ]
     },
     "execution_count": 38,
     "metadata": {},
     "output_type": "execute_result"
    }
   ],
   "source": [
    "ev"
   ]
  },
  {
   "cell_type": "code",
   "execution_count": 39,
   "metadata": {},
   "outputs": [],
   "source": [
    "x_new = x_test[:3]"
   ]
  },
  {
   "cell_type": "code",
   "execution_count": 40,
   "metadata": {},
   "outputs": [
    {
     "name": "stderr",
     "output_type": "stream",
     "text": [
      "C:\\Users\\Joskar\\anaconda3\\lib\\site-packages\\tensorflow\\python\\keras\\engine\\sequential.py:455: UserWarning: `model.predict_classes()` is deprecated and will be removed after 2021-01-01. Please use instead:* `np.argmax(model.predict(x), axis=-1)`,   if your model does multi-class classification   (e.g. if it uses a `softmax` last-layer activation).* `(model.predict(x) > 0.5).astype(\"int32\")`,   if your model does binary classification   (e.g. if it uses a `sigmoid` last-layer activation).\n",
      "  warnings.warn('`model.predict_classes()` is deprecated and '\n"
     ]
    },
    {
     "data": {
      "text/plain": [
       "array([9, 2, 1], dtype=int64)"
      ]
     },
     "execution_count": 40,
     "metadata": {},
     "output_type": "execute_result"
    }
   ],
   "source": [
    "y_pred = model.predict_classes(x_new)\n",
    "y_pred"
   ]
  },
  {
   "cell_type": "code",
   "execution_count": 41,
   "metadata": {},
   "outputs": [
    {
     "data": {
      "text/plain": [
       "array([9, 2, 1], dtype=uint8)"
      ]
     },
     "execution_count": 41,
     "metadata": {},
     "output_type": "execute_result"
    }
   ],
   "source": [
    "y_test[:3]"
   ]
  },
  {
   "cell_type": "code",
   "execution_count": 42,
   "metadata": {},
   "outputs": [
    {
     "name": "stdout",
     "output_type": "stream",
     "text": [
      "AxesImage(54,36;334.8x217.44)\n"
     ]
    },
    {
     "data": {
      "image/png": "[encoded data removed]",
      "text/plain": [
       "<Figure size 432x288 with 1 Axes>"
      ]
     },
     "metadata": {
      "needs_background": "light"
     },
     "output_type": "display_data"
    }
   ],
   "source": [
    "print(plt.imshow(x_test[0].reshape((28,28))))"
   ]
  },
  {
   "cell_type": "code",
   "execution_count": 43,
   "metadata": {},
   "outputs": [],
   "source": [
    " model_a = keras.models.Sequential()\n",
    "model_a.add(keras.layers.Conv2D(filters = 32 ,\n",
    "                              kernel_size = (3,3) , \n",
    "                              strides = 1 ,\n",
    "                              padding = 'valid',\n",
    "                              activation=\"relu\",\n",
    "                              input_shape=(28,28,1)))\n",
    "model_a.add(keras.layers.MaxPool2D(2,2))\n",
    "\n",
    "model_a.add(keras.layers.Flatten())\n",
    "model_a.add(keras.layers.Dense(300,activation=\"relu\"))\n",
    "model_a.add(keras.layers.Dense(100,activation=\"relu\"))\n",
    "model_a.add(keras.layers.Dense(10,activation=\"softmax\"))"
   ]
  },
  {
   "cell_type": "code",
   "execution_count": 44,
   "metadata": {},
   "outputs": [],
   "source": [
    " model_b = keras.models.Sequential()\n",
    "model_b.add(keras.layers.Conv2D(filters = 32 ,\n",
    "                              kernel_size = (3,3) , \n",
    "                              strides = 1 ,\n",
    "                              padding = 'valid',\n",
    "                              activation=\"relu\",\n",
    "                              input_shape=(28,28,1)))\n",
    "\n",
    "model_b.add(keras.layers.Flatten())\n",
    "model_b.add(keras.layers.Dense(300,activation=\"relu\"))\n",
    "model_b.add(keras.layers.Dense(100,activation=\"relu\"))\n",
    "model_b.add(keras.layers.Dense(10,activation=\"softmax\"))"
   ]
  },
  {
   "cell_type": "code",
   "execution_count": 45,
   "metadata": {},
   "outputs": [
    {
     "name": "stdout",
     "output_type": "stream",
     "text": [
      "Model: \"sequential_1\"\n",
      "_________________________________________________________________\n",
      "Layer (type)                 Output Shape              Param #   \n",
      "=================================================================\n",
      "conv2d_1 (Conv2D)            (None, 26, 26, 32)        320       \n",
      "_________________________________________________________________\n",
      "max_pooling2d_1 (MaxPooling2 (None, 13, 13, 32)        0         \n",
      "_________________________________________________________________\n",
      "flatten_1 (Flatten)          (None, 5408)              0         \n",
      "_________________________________________________________________\n",
      "dense_3 (Dense)              (None, 300)               1622700   \n",
      "_________________________________________________________________\n",
      "dense_4 (Dense)              (None, 100)               30100     \n",
      "_________________________________________________________________\n",
      "dense_5 (Dense)              (None, 10)                1010      \n",
      "=================================================================\n",
      "Total params: 1,654,130\n",
      "Trainable params: 1,654,130\n",
      "Non-trainable params: 0\n",
      "_________________________________________________________________\n"
     ]
    }
   ],
   "source": [
    "model_a.summary()"
   ]
  },
  {
   "cell_type": "code",
   "execution_count": 46,
   "metadata": {},
   "outputs": [
    {
     "name": "stdout",
     "output_type": "stream",
     "text": [
      "Model: \"sequential_2\"\n",
      "_________________________________________________________________\n",
      "Layer (type)                 Output Shape              Param #   \n",
      "=================================================================\n",
      "conv2d_2 (Conv2D)            (None, 26, 26, 32)        320       \n",
      "_________________________________________________________________\n",
      "flatten_2 (Flatten)          (None, 21632)             0         \n",
      "_________________________________________________________________\n",
      "dense_6 (Dense)              (None, 300)               6489900   \n",
      "_________________________________________________________________\n",
      "dense_7 (Dense)              (None, 100)               30100     \n",
      "_________________________________________________________________\n",
      "dense_8 (Dense)              (None, 10)                1010      \n",
      "=================================================================\n",
      "Total params: 6,521,330\n",
      "Trainable params: 6,521,330\n",
      "Non-trainable params: 0\n",
      "_________________________________________________________________\n"
     ]
    }
   ],
   "source": [
    "model_b.summary()"
   ]
  },
  {
   "cell_type": "code",
   "execution_count": 47,
   "metadata": {},
   "outputs": [],
   "source": [
    "model_a.compile(loss=\"sparse_categorical_crossentropy\",optimizer=\"sgd\",metrics=[\"accuracy\"])\n",
    "model_b.compile(loss=\"sparse_categorical_crossentropy\",optimizer=\"sgd\",metrics=[\"accuracy\"])"
   ]
  },
  {
   "cell_type": "code",
   "execution_count": 49,
   "metadata": {},
   "outputs": [
    {
     "name": "stdout",
     "output_type": "stream",
     "text": [
      "Epoch 1/30\n",
      "860/860 [==============================] - 24s 27ms/step - loss: 2.3020 - accuracy: 0.1105 - val_loss: 2.3019 - val_accuracy: 0.1548\n",
      "Epoch 2/30\n",
      "860/860 [==============================] - 26s 30ms/step - loss: 2.3018 - accuracy: 0.1170 - val_loss: 2.3017 - val_accuracy: 0.1254\n",
      "Epoch 3/30\n",
      "860/860 [==============================] - 21s 25ms/step - loss: 2.3015 - accuracy: 0.1135 - val_loss: 2.3018 - val_accuracy: 0.0914\n",
      "Epoch 4/30\n",
      "860/860 [==============================] - 19s 22ms/step - loss: 2.3013 - accuracy: 0.1220 - val_loss: 2.3008 - val_accuracy: 0.1206\n",
      "Epoch 5/30\n",
      "860/860 [==============================] - 18s 20ms/step - loss: 2.3009 - accuracy: 0.1155 - val_loss: 2.3009 - val_accuracy: 0.0986\n",
      "Epoch 6/30\n",
      "860/860 [==============================] - 17s 20ms/step - loss: 2.3005 - accuracy: 0.1255 - val_loss: 2.3002 - val_accuracy: 0.0980\n",
      "Epoch 7/30\n",
      "860/860 [==============================] - 15s 18ms/step - loss: 2.3000 - accuracy: 0.1209 - val_loss: 2.2996 - val_accuracy: 0.1012\n",
      "Epoch 8/30\n",
      "860/860 [==============================] - 16s 18ms/step - loss: 2.2995 - accuracy: 0.1277 - val_loss: 2.2993 - val_accuracy: 0.1440\n",
      "Epoch 9/30\n",
      "860/860 [==============================] - 15s 18ms/step - loss: 2.2989 - accuracy: 0.1282 - val_loss: 2.2982 - val_accuracy: 0.1932\n",
      "Epoch 10/30\n",
      "860/860 [==============================] - 15s 18ms/step - loss: 2.2981 - accuracy: 0.1651 - val_loss: 2.2979 - val_accuracy: 0.1374\n",
      "Epoch 11/30\n",
      "860/860 [==============================] - 15s 18ms/step - loss: 2.2970 - accuracy: 0.1587 - val_loss: 2.2962 - val_accuracy: 0.2034\n",
      "Epoch 12/30\n",
      "860/860 [==============================] - 13s 16ms/step - loss: 2.2956 - accuracy: 0.1657 - val_loss: 2.2945 - val_accuracy: 0.1896\n",
      "Epoch 13/30\n",
      "860/860 [==============================] - 13s 15ms/step - loss: 2.2935 - accuracy: 0.1678 - val_loss: 2.2926 - val_accuracy: 0.1166\n",
      "Epoch 14/30\n",
      "860/860 [==============================] - 13s 15ms/step - loss: 2.2909 - accuracy: 0.1867 - val_loss: 2.2968 - val_accuracy: 0.1008\n",
      "Epoch 15/30\n",
      "860/860 [==============================] - 12s 14ms/step - loss: 2.2870 - accuracy: 0.2090 - val_loss: 2.2836 - val_accuracy: 0.2738\n",
      "Epoch 16/30\n",
      "860/860 [==============================] - 13s 15ms/step - loss: 2.2813 - accuracy: 0.2266 - val_loss: 2.2771 - val_accuracy: 0.2644\n",
      "Epoch 17/30\n",
      "860/860 [==============================] - 13s 15ms/step - loss: 2.2727 - accuracy: 0.2481 - val_loss: 2.2648 - val_accuracy: 0.3758\n",
      "Epoch 18/30\n",
      "860/860 [==============================] - 13s 15ms/step - loss: 2.2578 - accuracy: 0.2657 - val_loss: 2.2434 - val_accuracy: 0.3942\n",
      "Epoch 19/30\n",
      "860/860 [==============================] - 13s 15ms/step - loss: 2.2309 - accuracy: 0.2738 - val_loss: 2.2059 - val_accuracy: 0.2274\n",
      "Epoch 20/30\n",
      "860/860 [==============================] - 13s 15ms/step - loss: 2.1757 - accuracy: 0.2875 - val_loss: 2.1334 - val_accuracy: 0.2082\n",
      "Epoch 21/30\n",
      "860/860 [==============================] - 13s 15ms/step - loss: 2.0471 - accuracy: 0.3155 - val_loss: 1.9911 - val_accuracy: 0.2122\n",
      "Epoch 22/30\n",
      "860/860 [==============================] - 13s 15ms/step - loss: 1.8074 - accuracy: 0.3668 - val_loss: 1.6732 - val_accuracy: 0.4400\n",
      "Epoch 23/30\n",
      "860/860 [==============================] - 13s 15ms/step - loss: 1.5882 - accuracy: 0.4233 - val_loss: 1.5205 - val_accuracy: 0.4006\n",
      "Epoch 24/30\n",
      "860/860 [==============================] - 13s 15ms/step - loss: 1.4353 - accuracy: 0.4759 - val_loss: 1.3724 - val_accuracy: 0.4390\n",
      "Epoch 25/30\n",
      "860/860 [==============================] - 13s 15ms/step - loss: 1.3107 - accuracy: 0.5210 - val_loss: 1.2292 - val_accuracy: 0.5766\n",
      "Epoch 26/30\n",
      "860/860 [==============================] - 13s 15ms/step - loss: 1.1963 - accuracy: 0.5658 - val_loss: 1.1164 - val_accuracy: 0.6070\n",
      "Epoch 27/30\n",
      "860/860 [==============================] - 13s 15ms/step - loss: 1.0973 - accuracy: 0.5947 - val_loss: 1.0486 - val_accuracy: 0.6098\n",
      "Epoch 28/30\n",
      "860/860 [==============================] - 13s 15ms/step - loss: 1.0150 - accuracy: 0.6199 - val_loss: 0.9653 - val_accuracy: 0.6450\n",
      "Epoch 29/30\n",
      "860/860 [==============================] - 13s 15ms/step - loss: 0.9529 - accuracy: 0.6412 - val_loss: 0.9152 - val_accuracy: 0.6674\n",
      "Epoch 30/30\n",
      "860/860 [==============================] - 13s 15ms/step - loss: 0.9015 - accuracy: 0.6616 - val_loss: 0.9279 - val_accuracy: 0.6650\n"
     ]
    }
   ],
   "source": [
    "model_history_a = model_a.fit(x_train,\n",
    "                              y_train, \n",
    "                              epochs = 30, \n",
    "                              batch_size = 64,\n",
    "                              validation_data = (x_valid,y_valid))"
   ]
  },
  {
   "cell_type": "code",
   "execution_count": 50,
   "metadata": {},
   "outputs": [
    {
     "name": "stdout",
     "output_type": "stream",
     "text": [
      "Epoch 1/30\n",
      "860/860 [==============================] - 29s 32ms/step - loss: 2.3019 - accuracy: 0.1108 - val_loss: 2.3018 - val_accuracy: 0.1116\n",
      "Epoch 2/30\n",
      "860/860 [==============================] - 25s 29ms/step - loss: 2.3015 - accuracy: 0.1153 - val_loss: 2.3013 - val_accuracy: 0.0914\n",
      "Epoch 3/30\n",
      "860/860 [==============================] - 22s 26ms/step - loss: 2.3010 - accuracy: 0.1201 - val_loss: 2.3010 - val_accuracy: 0.0914\n",
      "Epoch 4/30\n",
      "860/860 [==============================] - 22s 26ms/step - loss: 2.3002 - accuracy: 0.1267 - val_loss: 2.2991 - val_accuracy: 0.2132\n",
      "Epoch 5/30\n",
      "860/860 [==============================] - 22s 26ms/step - loss: 2.2992 - accuracy: 0.1394 - val_loss: 2.2984 - val_accuracy: 0.0986\n",
      "Epoch 6/30\n",
      "860/860 [==============================] - 22s 26ms/step - loss: 2.2976 - accuracy: 0.1382 - val_loss: 2.2962 - val_accuracy: 0.1394\n",
      "Epoch 7/30\n",
      "860/860 [==============================] - 22s 26ms/step - loss: 2.2953 - accuracy: 0.1486 - val_loss: 2.2935 - val_accuracy: 0.1012\n",
      "Epoch 8/30\n",
      "860/860 [==============================] - 22s 26ms/step - loss: 2.2918 - accuracy: 0.1620 - val_loss: 2.2890 - val_accuracy: 0.2760\n",
      "Epoch 9/30\n",
      "860/860 [==============================] - 22s 26ms/step - loss: 2.2859 - accuracy: 0.1983 - val_loss: 2.2854 - val_accuracy: 0.0986\n",
      "Epoch 10/30\n",
      "860/860 [==============================] - 22s 26ms/step - loss: 2.2754 - accuracy: 0.2300 - val_loss: 2.2829 - val_accuracy: 0.1008\n",
      "Epoch 11/30\n",
      "860/860 [==============================] - 22s 26ms/step - loss: 2.2527 - accuracy: 0.2557 - val_loss: 2.2623 - val_accuracy: 0.1070\n",
      "Epoch 12/30\n",
      "860/860 [==============================] - 22s 26ms/step - loss: 2.1973 - accuracy: 0.2895 - val_loss: 2.1666 - val_accuracy: 0.2044\n",
      "Epoch 13/30\n",
      "860/860 [==============================] - 22s 26ms/step - loss: 2.0203 - accuracy: 0.3430 - val_loss: 1.8426 - val_accuracy: 0.4520\n",
      "Epoch 14/30\n",
      "860/860 [==============================] - 22s 26ms/step - loss: 1.6914 - accuracy: 0.4143 - val_loss: 1.5883 - val_accuracy: 0.4446\n",
      "Epoch 15/30\n",
      "860/860 [==============================] - 22s 26ms/step - loss: 1.4409 - accuracy: 0.4907 - val_loss: 1.4259 - val_accuracy: 0.3856\n",
      "Epoch 16/30\n",
      "860/860 [==============================] - 22s 26ms/step - loss: 1.2442 - accuracy: 0.5616 - val_loss: 1.1355 - val_accuracy: 0.5942\n",
      "Epoch 17/30\n",
      "860/860 [==============================] - 23s 26ms/step - loss: 1.0811 - accuracy: 0.6168 - val_loss: 1.0321 - val_accuracy: 0.6418\n",
      "Epoch 18/30\n",
      "860/860 [==============================] - 22s 26ms/step - loss: 0.9648 - accuracy: 0.6509 - val_loss: 0.9054 - val_accuracy: 0.6850\n",
      "Epoch 19/30\n",
      "860/860 [==============================] - 22s 26ms/step - loss: 0.8840 - accuracy: 0.6780 - val_loss: 0.8466 - val_accuracy: 0.6942\n",
      "Epoch 20/30\n",
      "860/860 [==============================] - 23s 26ms/step - loss: 0.8237 - accuracy: 0.6990 - val_loss: 0.8020 - val_accuracy: 0.7002\n",
      "Epoch 21/30\n",
      "860/860 [==============================] - 22s 26ms/step - loss: 0.7781 - accuracy: 0.7137 - val_loss: 0.7400 - val_accuracy: 0.7346\n",
      "Epoch 22/30\n",
      "860/860 [==============================] - 23s 26ms/step - loss: 0.7447 - accuracy: 0.7234 - val_loss: 0.7233 - val_accuracy: 0.7430\n",
      "Epoch 23/30\n",
      "860/860 [==============================] - 23s 26ms/step - loss: 0.7189 - accuracy: 0.7316 - val_loss: 0.7012 - val_accuracy: 0.7506\n",
      "Epoch 24/30\n",
      "860/860 [==============================] - 23s 26ms/step - loss: 0.7009 - accuracy: 0.7364 - val_loss: 0.7008 - val_accuracy: 0.7310\n",
      "Epoch 25/30\n",
      "860/860 [==============================] - 23s 26ms/step - loss: 0.6848 - accuracy: 0.7413 - val_loss: 0.6731 - val_accuracy: 0.7428\n",
      "Epoch 26/30\n",
      "860/860 [==============================] - 23s 26ms/step - loss: 0.6721 - accuracy: 0.7463 - val_loss: 0.6672 - val_accuracy: 0.7496\n",
      "Epoch 27/30\n",
      "860/860 [==============================] - 23s 26ms/step - loss: 0.6618 - accuracy: 0.7499 - val_loss: 0.6534 - val_accuracy: 0.7470\n",
      "Epoch 28/30\n",
      "860/860 [==============================] - 23s 26ms/step - loss: 0.6521 - accuracy: 0.7533 - val_loss: 0.6448 - val_accuracy: 0.7642\n",
      "Epoch 29/30\n",
      "860/860 [==============================] - 23s 26ms/step - loss: 0.6436 - accuracy: 0.7570 - val_loss: 0.6598 - val_accuracy: 0.7562\n",
      "Epoch 30/30\n",
      "860/860 [==============================] - 23s 26ms/step - loss: 0.6356 - accuracy: 0.7608 - val_loss: 0.6311 - val_accuracy: 0.7668\n"
     ]
    }
   ],
   "source": [
    "model_history_b = model_b.fit(x_train,\n",
    "                              y_train, \n",
    "                              epochs = 30, \n",
    "                              batch_size = 64,\n",
    "                              validation_data = (x_valid,y_valid))"
   ]
  },
  {
   "cell_type": "code",
   "execution_count": null,
   "metadata": {},
   "outputs": [],
   "source": []
  }
 ],
 "metadata": {
  "kernelspec": {
   "display_name": "Python 3",
   "language": "python",
   "name": "python3"
  },
  "language_info": {
   "codemirror_mode": {
    "name": "ipython",
    "version": 3
   },
   "file_extension": ".py",
   "mimetype": "text/x-python",
   "name": "python",
   "nbconvert_exporter": "python",
   "pygments_lexer": "ipython3",
   "version": "3.8.5"
  }
 },
 "nbformat": 4,
 "nbformat_minor": 4
}
