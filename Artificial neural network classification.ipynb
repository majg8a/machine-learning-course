{
 "cells": [
  {
   "cell_type": "code",
   "execution_count": 12,
   "metadata": {},
   "outputs": [],
   "source": [
    "import numpy as np\n",
    "import pandas as pd\n",
    "import matplotlib as mlp\n",
    "import matplotlib.pyplot as plt"
   ]
  },
  {
   "cell_type": "code",
   "execution_count": 13,
   "metadata": {},
   "outputs": [],
   "source": [
    "import tensorflow as tf\n",
    "from tensorflow import keras"
   ]
  },
  {
   "cell_type": "code",
   "execution_count": 14,
   "metadata": {},
   "outputs": [
    {
     "data": {
      "text/plain": [
       "'2.5.0'"
      ]
     },
     "execution_count": 14,
     "metadata": {},
     "output_type": "execute_result"
    }
   ],
   "source": [
    "keras.__version__"
   ]
  },
  {
   "cell_type": "code",
   "execution_count": 15,
   "metadata": {},
   "outputs": [
    {
     "data": {
      "text/plain": [
       "'2.5.0'"
      ]
     },
     "execution_count": 15,
     "metadata": {},
     "output_type": "execute_result"
    }
   ],
   "source": [
    "tf.__version__"
   ]
  },
  {
   "cell_type": "code",
   "execution_count": 16,
   "metadata": {},
   "outputs": [],
   "source": [
    "fashion_mnist = keras.datasets.fashion_mnist\n",
    "(x_train_full,y_train_full),(x_test,y_test) = fashion_mnist.load_data()"
   ]
  },
  {
   "cell_type": "code",
   "execution_count": 19,
   "metadata": {},
   "outputs": [
    {
     "data": {
      "text/plain": [
       "<matplotlib.image.AxesImage at 0x298838f8eb0>"
      ]
     },
     "execution_count": 19,
     "metadata": {},
     "output_type": "execute_result"
    },
    {
     "data": {
      "image/png": "[encoded data removed]",
      "text/plain": [
       "<Figure size 432x288 with 1 Axes>"
      ]
     },
     "metadata": {
      "needs_background": "light"
     },
     "output_type": "display_data"
    }
   ],
   "source": [
    "plt.imshow(x_train_full[1])"
   ]
  },
  {
   "cell_type": "code",
   "execution_count": 20,
   "metadata": {},
   "outputs": [
    {
     "data": {
      "text/plain": [
       "0"
      ]
     },
     "execution_count": 20,
     "metadata": {},
     "output_type": "execute_result"
    }
   ],
   "source": [
    "y_train_full[1]"
   ]
  },
  {
   "cell_type": "markdown",
   "metadata": {},
   "source": [
    "### Data normalization\n",
    "We then normilize the data dimensions so that they are of approximabely the same scale"
   ]
  },
  {
   "cell_type": "code",
   "execution_count": 21,
   "metadata": {},
   "outputs": [],
   "source": [
    "x_train_n = x_train_full/255.\n",
    "x_test_n = x_test/255"
   ]
  },
  {
   "cell_type": "code",
   "execution_count": 22,
   "metadata": {},
   "outputs": [],
   "source": [
    "x_valid,x_train = x_train_n[:5000],x_train_n[5000:]\n",
    "y_valid,y_train = y_train_full[:5000],y_train_full[5000:]\n",
    "x_test = x_test_n"
   ]
  },
  {
   "cell_type": "code",
   "execution_count": 24,
   "metadata": {},
   "outputs": [],
   "source": [
    "np.random.seed(42)\n",
    "tf.random.set_seed(42)"
   ]
  },
  {
   "cell_type": "code",
   "execution_count": 25,
   "metadata": {},
   "outputs": [],
   "source": [
    "model = keras.models.Sequential()\n",
    "model.add(keras.layers.Flatten(input_shape=[28,28]))\n",
    "model.add(keras.layers.Dense(300,activation=\"relu\"))\n",
    "model.add(keras.layers.Dense(100,activation=\"relu\"))\n",
    "model.add(keras.layers.Dense(10,activation=\"softmax\"))"
   ]
  },
  {
   "cell_type": "code",
   "execution_count": 26,
   "metadata": {},
   "outputs": [
    {
     "name": "stdout",
     "output_type": "stream",
     "text": [
      "Model: \"sequential\"\n",
      "_________________________________________________________________\n",
      "Layer (type)                 Output Shape              Param #   \n",
      "=================================================================\n",
      "flatten (Flatten)            (None, 784)               0         \n",
      "_________________________________________________________________\n",
      "dense (Dense)                (None, 300)               235500    \n",
      "_________________________________________________________________\n",
      "dense_1 (Dense)              (None, 100)               30100     \n",
      "_________________________________________________________________\n",
      "dense_2 (Dense)              (None, 10)                1010      \n",
      "=================================================================\n",
      "Total params: 266,610\n",
      "Trainable params: 266,610\n",
      "Non-trainable params: 0\n",
      "_________________________________________________________________\n"
     ]
    }
   ],
   "source": [
    "model.summary()"
   ]
  },
  {
   "cell_type": "code",
   "execution_count": 30,
   "metadata": {},
   "outputs": [
    {
     "data": {
      "image/png": "[encoded data removed]",
      "text/plain": [
       "<IPython.core.display.Image object>"
      ]
     },
     "execution_count": 30,
     "metadata": {},
     "output_type": "execute_result"
    }
   ],
   "source": [
    "import pydot\n",
    "keras.utils.plot_model(model)"
   ]
  },
  {
   "cell_type": "code",
   "execution_count": 35,
   "metadata": {},
   "outputs": [],
   "source": [
    "weights,biases = model.layers[1].get_weights()"
   ]
  },
  {
   "cell_type": "code",
   "execution_count": 33,
   "metadata": {},
   "outputs": [
    {
     "data": {
      "text/plain": [
       "(784, 300)"
      ]
     },
     "execution_count": 33,
     "metadata": {},
     "output_type": "execute_result"
    }
   ],
   "source": [
    "weights.shape"
   ]
  },
  {
   "cell_type": "code",
   "execution_count": 37,
   "metadata": {},
   "outputs": [
    {
     "data": {
      "text/plain": [
       "(300,)"
      ]
     },
     "execution_count": 37,
     "metadata": {},
     "output_type": "execute_result"
    }
   ],
   "source": [
    "biases.shape"
   ]
  },
  {
   "cell_type": "code",
   "execution_count": 44,
   "metadata": {},
   "outputs": [],
   "source": [
    "model.compile(loss=\"sparse_categorical_crossentropy\", optimizer=\"sgd\",metrics=[\"accuracy\"])"
   ]
  },
  {
   "cell_type": "code",
   "execution_count": 61,
   "metadata": {},
   "outputs": [
    {
     "name": "stdout",
     "output_type": "stream",
     "text": [
      "Epoch 1/30\n",
      "1719/1719 [==============================] - 7s 4ms/step - loss: 0.1354 - accuracy: 0.9529 - val_loss: 0.3021 - val_accuracy: 0.8954\n",
      "Epoch 2/30\n",
      "1719/1719 [==============================] - 6s 4ms/step - loss: 0.1342 - accuracy: 0.9532 - val_loss: 0.3138 - val_accuracy: 0.8974\n",
      "Epoch 3/30\n",
      "1719/1719 [==============================] - 7s 4ms/step - loss: 0.1321 - accuracy: 0.9538 - val_loss: 0.3557 - val_accuracy: 0.8760\n",
      "Epoch 4/30\n",
      "1719/1719 [==============================] - 7s 4ms/step - loss: 0.1295 - accuracy: 0.9544 - val_loss: 0.2979 - val_accuracy: 0.8976\n",
      "Epoch 5/30\n",
      "1719/1719 [==============================] - 7s 4ms/step - loss: 0.1292 - accuracy: 0.9535 - val_loss: 0.2954 - val_accuracy: 0.9036\n",
      "Epoch 6/30\n",
      "1719/1719 [==============================] - 7s 4ms/step - loss: 0.1253 - accuracy: 0.9560 - val_loss: 0.3339 - val_accuracy: 0.8930\n",
      "Epoch 7/30\n",
      "1719/1719 [==============================] - 7s 4ms/step - loss: 0.1236 - accuracy: 0.9573 - val_loss: 0.3247 - val_accuracy: 0.8984\n",
      "Epoch 8/30\n",
      "1719/1719 [==============================] - 7s 4ms/step - loss: 0.1217 - accuracy: 0.9578 - val_loss: 0.3226 - val_accuracy: 0.8952\n",
      "Epoch 9/30\n",
      "1719/1719 [==============================] - 7s 4ms/step - loss: 0.1193 - accuracy: 0.9583 - val_loss: 0.3005 - val_accuracy: 0.9002\n",
      "Epoch 10/30\n",
      "1719/1719 [==============================] - 7s 4ms/step - loss: 0.1172 - accuracy: 0.9592 - val_loss: 0.3085 - val_accuracy: 0.9008\n",
      "Epoch 11/30\n",
      "1719/1719 [==============================] - 7s 4ms/step - loss: 0.1164 - accuracy: 0.9591 - val_loss: 0.3143 - val_accuracy: 0.8976\n",
      "Epoch 12/30\n",
      "1719/1719 [==============================] - 7s 4ms/step - loss: 0.1136 - accuracy: 0.9609 - val_loss: 0.3216 - val_accuracy: 0.8976\n",
      "Epoch 13/30\n",
      "1719/1719 [==============================] - 7s 4ms/step - loss: 0.1119 - accuracy: 0.9609 - val_loss: 0.3195 - val_accuracy: 0.8952\n",
      "Epoch 14/30\n",
      "1719/1719 [==============================] - 7s 4ms/step - loss: 0.1098 - accuracy: 0.9621 - val_loss: 0.3324 - val_accuracy: 0.8920\n",
      "Epoch 15/30\n",
      "1719/1719 [==============================] - 7s 4ms/step - loss: 0.1089 - accuracy: 0.9622 - val_loss: 0.3130 - val_accuracy: 0.9004\n",
      "Epoch 16/30\n",
      "1719/1719 [==============================] - 7s 4ms/step - loss: 0.1078 - accuracy: 0.9630 - val_loss: 0.3161 - val_accuracy: 0.9010\n",
      "Epoch 17/30\n",
      "1719/1719 [==============================] - 7s 4ms/step - loss: 0.1055 - accuracy: 0.9631 - val_loss: 0.3481 - val_accuracy: 0.8940\n",
      "Epoch 18/30\n",
      "1719/1719 [==============================] - 6s 4ms/step - loss: 0.1029 - accuracy: 0.9648 - val_loss: 0.3216 - val_accuracy: 0.9000\n",
      "Epoch 19/30\n",
      "1719/1719 [==============================] - 7s 4ms/step - loss: 0.1018 - accuracy: 0.9653 - val_loss: 0.3242 - val_accuracy: 0.9022\n",
      "Epoch 20/30\n",
      "1719/1719 [==============================] - 7s 4ms/step - loss: 0.0997 - accuracy: 0.9653 - val_loss: 0.3381 - val_accuracy: 0.8944\n",
      "Epoch 21/30\n",
      "1719/1719 [==============================] - 7s 4ms/step - loss: 0.0977 - accuracy: 0.9660 - val_loss: 0.3277 - val_accuracy: 0.8972\n",
      "Epoch 22/30\n",
      "1719/1719 [==============================] - 7s 4ms/step - loss: 0.0967 - accuracy: 0.9671 - val_loss: 0.3153 - val_accuracy: 0.9040\n",
      "Epoch 23/30\n",
      "1719/1719 [==============================] - 7s 4ms/step - loss: 0.0954 - accuracy: 0.9666 - val_loss: 0.3244 - val_accuracy: 0.9026\n",
      "Epoch 24/30\n",
      "1719/1719 [==============================] - 7s 4ms/step - loss: 0.0937 - accuracy: 0.9677 - val_loss: 0.3469 - val_accuracy: 0.8964\n",
      "Epoch 25/30\n",
      "1719/1719 [==============================] - 7s 4ms/step - loss: 0.0920 - accuracy: 0.9680 - val_loss: 0.3297 - val_accuracy: 0.9010\n",
      "Epoch 26/30\n",
      "1719/1719 [==============================] - 7s 4ms/step - loss: 0.0909 - accuracy: 0.9695 - val_loss: 0.3329 - val_accuracy: 0.9040\n",
      "Epoch 27/30\n",
      "1719/1719 [==============================] - 7s 4ms/step - loss: 0.0896 - accuracy: 0.9689 - val_loss: 0.3348 - val_accuracy: 0.8994\n",
      "Epoch 28/30\n",
      "1719/1719 [==============================] - 7s 4ms/step - loss: 0.0878 - accuracy: 0.9693 - val_loss: 0.3392 - val_accuracy: 0.8962\n",
      "Epoch 29/30\n",
      "1719/1719 [==============================] - 7s 4ms/step - loss: 0.0865 - accuracy: 0.9706 - val_loss: 0.3534 - val_accuracy: 0.8958\n",
      "Epoch 30/30\n",
      "1719/1719 [==============================] - 7s 4ms/step - loss: 0.0850 - accuracy: 0.9719 - val_loss: 0.3539 - val_accuracy: 0.8986\n"
     ]
    }
   ],
   "source": [
    "model_history = model.fit(x_train,y_train,epochs=30,validation_data=(x_valid,y_valid))"
   ]
  },
  {
   "cell_type": "code",
   "execution_count": 51,
   "metadata": {},
   "outputs": [
    {
     "data": {
      "text/plain": [
       "{'verbose': 1, 'epochs': 30, 'steps': 1719}"
      ]
     },
     "execution_count": 51,
     "metadata": {},
     "output_type": "execute_result"
    }
   ],
   "source": [
    "model_history.params"
   ]
  },
  {
   "cell_type": "code",
   "execution_count": 62,
   "metadata": {},
   "outputs": [
    {
     "data": {
      "text/plain": [
       "{'loss': [0.13537950813770294,\n",
       "  0.1342392861843109,\n",
       "  0.13211208581924438,\n",
       "  0.129538893699646,\n",
       "  0.12917248904705048,\n",
       "  0.12530092895030975,\n",
       "  0.1236426904797554,\n",
       "  0.12170515209436417,\n",
       "  0.1192752942442894,\n",
       "  0.11718705296516418,\n",
       "  0.11639966070652008,\n",
       "  0.11356380581855774,\n",
       "  0.11193310469388962,\n",
       "  0.10984700173139572,\n",
       "  0.1089356541633606,\n",
       "  0.10776448994874954,\n",
       "  0.10551398247480392,\n",
       "  0.1029186099767685,\n",
       "  0.1018432155251503,\n",
       "  0.09965742379426956,\n",
       "  0.09769301861524582,\n",
       "  0.09671046584844589,\n",
       "  0.09542860090732574,\n",
       "  0.09371497482061386,\n",
       "  0.09203272312879562,\n",
       "  0.09093450754880905,\n",
       "  0.08963239192962646,\n",
       "  0.08779563009738922,\n",
       "  0.08647969365119934,\n",
       "  0.08495156466960907],\n",
       " 'accuracy': [0.9529454708099365,\n",
       "  0.9532363414764404,\n",
       "  0.9538000226020813,\n",
       "  0.9544181823730469,\n",
       "  0.9534909129142761,\n",
       "  0.956036388874054,\n",
       "  0.9573272466659546,\n",
       "  0.9577817916870117,\n",
       "  0.9583091139793396,\n",
       "  0.9592182040214539,\n",
       "  0.9590908885002136,\n",
       "  0.9609090685844421,\n",
       "  0.9608908891677856,\n",
       "  0.9621090888977051,\n",
       "  0.9622363448143005,\n",
       "  0.9629636406898499,\n",
       "  0.9631272554397583,\n",
       "  0.9648000001907349,\n",
       "  0.965254545211792,\n",
       "  0.9653454422950745,\n",
       "  0.9660181999206543,\n",
       "  0.9671454429626465,\n",
       "  0.9665636420249939,\n",
       "  0.9677454829216003,\n",
       "  0.9680363535881042,\n",
       "  0.9694727063179016,\n",
       "  0.9688727259635925,\n",
       "  0.9692545533180237,\n",
       "  0.9706000089645386,\n",
       "  0.971854567527771],\n",
       " 'val_loss': [0.3021458089351654,\n",
       "  0.313819944858551,\n",
       "  0.3557402491569519,\n",
       "  0.2979221045970917,\n",
       "  0.2954392433166504,\n",
       "  0.33390364050865173,\n",
       "  0.32474732398986816,\n",
       "  0.3226184546947479,\n",
       "  0.3005450367927551,\n",
       "  0.30845630168914795,\n",
       "  0.3142699897289276,\n",
       "  0.3216305375099182,\n",
       "  0.3194945454597473,\n",
       "  0.33241739869117737,\n",
       "  0.3130485415458679,\n",
       "  0.3160916864871979,\n",
       "  0.3480871915817261,\n",
       "  0.3216041326522827,\n",
       "  0.324180543422699,\n",
       "  0.33805951476097107,\n",
       "  0.3277265727519989,\n",
       "  0.3153083920478821,\n",
       "  0.3243789076805115,\n",
       "  0.34686192870140076,\n",
       "  0.32968372106552124,\n",
       "  0.33290615677833557,\n",
       "  0.33476608991622925,\n",
       "  0.3391670286655426,\n",
       "  0.3533715009689331,\n",
       "  0.35390838980674744],\n",
       " 'val_accuracy': [0.8953999876976013,\n",
       "  0.8974000215530396,\n",
       "  0.8759999871253967,\n",
       "  0.897599995136261,\n",
       "  0.9035999774932861,\n",
       "  0.8930000066757202,\n",
       "  0.8984000086784363,\n",
       "  0.8952000141143799,\n",
       "  0.9002000093460083,\n",
       "  0.9007999897003174,\n",
       "  0.897599995136261,\n",
       "  0.897599995136261,\n",
       "  0.8952000141143799,\n",
       "  0.8920000195503235,\n",
       "  0.9003999829292297,\n",
       "  0.9010000228881836,\n",
       "  0.8939999938011169,\n",
       "  0.8999999761581421,\n",
       "  0.9021999835968018,\n",
       "  0.8944000005722046,\n",
       "  0.8971999883651733,\n",
       "  0.9039999842643738,\n",
       "  0.9025999903678894,\n",
       "  0.896399974822998,\n",
       "  0.9010000228881836,\n",
       "  0.9039999842643738,\n",
       "  0.899399995803833,\n",
       "  0.8962000012397766,\n",
       "  0.895799994468689,\n",
       "  0.8985999822616577]}"
      ]
     },
     "execution_count": 62,
     "metadata": {},
     "output_type": "execute_result"
    }
   ],
   "source": [
    "model_history.history"
   ]
  },
  {
   "cell_type": "code",
   "execution_count": 63,
   "metadata": {},
   "outputs": [
    {
     "data": {
      "image/png": "[encoded data removed]",
      "text/plain": [
       "<Figure size 576x360 with 1 Axes>"
      ]
     },
     "metadata": {
      "needs_background": "light"
     },
     "output_type": "display_data"
    }
   ],
   "source": [
    "pd.DataFrame(model_history.history).plot(figsize=(8,5))\n",
    "plt.grid(True)\n",
    "plt.gca().set_ylim(0,1)\n",
    "plt.show()"
   ]
  },
  {
   "cell_type": "code",
   "execution_count": 64,
   "metadata": {},
   "outputs": [
    {
     "name": "stdout",
     "output_type": "stream",
     "text": [
      "313/313 [==============================] - 1s 2ms/step - loss: 0.3968 - accuracy: 0.8903\n"
     ]
    },
    {
     "data": {
      "text/plain": [
       "[0.3967524766921997, 0.8902999758720398]"
      ]
     },
     "execution_count": 64,
     "metadata": {},
     "output_type": "execute_result"
    }
   ],
   "source": [
    "model.evaluate(x_test,y_test)"
   ]
  },
  {
   "cell_type": "code",
   "execution_count": 65,
   "metadata": {},
   "outputs": [],
   "source": [
    "x_new = x_test[:3]"
   ]
  },
  {
   "cell_type": "code",
   "execution_count": 66,
   "metadata": {},
   "outputs": [
    {
     "data": {
      "text/plain": [
       "array([[0.  , 0.  , 0.  , 0.  , 0.  , 0.  , 0.  , 0.  , 0.  , 1.  ],\n",
       "       [0.  , 0.  , 0.99, 0.  , 0.01, 0.  , 0.  , 0.  , 0.  , 0.  ],\n",
       "       [0.  , 1.  , 0.  , 0.  , 0.  , 0.  , 0.  , 0.  , 0.  , 0.  ]],\n",
       "      dtype=float32)"
      ]
     },
     "execution_count": 66,
     "metadata": {},
     "output_type": "execute_result"
    }
   ],
   "source": [
    "y_proba = model.predict(x_new)\n",
    "y_proba.round(2)"
   ]
  },
  {
   "cell_type": "code",
   "execution_count": 67,
   "metadata": {},
   "outputs": [
    {
     "name": "stderr",
     "output_type": "stream",
     "text": [
      "C:\\Users\\Joskar\\anaconda3\\lib\\site-packages\\tensorflow\\python\\keras\\engine\\sequential.py:455: UserWarning: `model.predict_classes()` is deprecated and will be removed after 2021-01-01. Please use instead:* `np.argmax(model.predict(x), axis=-1)`,   if your model does multi-class classification   (e.g. if it uses a `softmax` last-layer activation).* `(model.predict(x) > 0.5).astype(\"int32\")`,   if your model does binary classification   (e.g. if it uses a `sigmoid` last-layer activation).\n",
      "  warnings.warn('`model.predict_classes()` is deprecated and '\n"
     ]
    },
    {
     "data": {
      "text/plain": [
       "array([9, 2, 1], dtype=int64)"
      ]
     },
     "execution_count": 67,
     "metadata": {},
     "output_type": "execute_result"
    }
   ],
   "source": [
    "y_pred = model.predict_classes(x_new)\n",
    "y_pred"
   ]
  },
  {
   "cell_type": "code",
   "execution_count": 58,
   "metadata": {},
   "outputs": [
    {
     "name": "stdout",
     "output_type": "stream",
     "text": [
      "AxesImage(54,36;334.8x217.44)\n"
     ]
    },
    {
     "data": {
      "image/png": "[encoded data removed]",
      "text/plain": [
       "<Figure size 432x288 with 1 Axes>"
      ]
     },
     "metadata": {
      "needs_background": "light"
     },
     "output_type": "display_data"
    }
   ],
   "source": [
    "print(plt.imshow(x_test[0]))"
   ]
  },
  {
   "cell_type": "code",
   "execution_count": 59,
   "metadata": {},
   "outputs": [
    {
     "name": "stdout",
     "output_type": "stream",
     "text": [
      "AxesImage(54,36;334.8x217.44)\n"
     ]
    },
    {
     "data": {
      "image/png": "[encoded data removed]",
      "text/plain": [
       "<Figure size 432x288 with 1 Axes>"
      ]
     },
     "metadata": {
      "needs_background": "light"
     },
     "output_type": "display_data"
    }
   ],
   "source": [
    "print(plt.imshow(x_test[1]))"
   ]
  },
  {
   "cell_type": "code",
   "execution_count": 60,
   "metadata": {},
   "outputs": [
    {
     "name": "stdout",
     "output_type": "stream",
     "text": [
      "AxesImage(54,36;334.8x217.44)\n"
     ]
    },
    {
     "data": {
      "image/png": "[encoded data removed]",
      "text/plain": [
       "<Figure size 432x288 with 1 Axes>"
      ]
     },
     "metadata": {
      "needs_background": "light"
     },
     "output_type": "display_data"
    }
   ],
   "source": [
    "print(plt.imshow(x_test[2]))"
   ]
  },
  {
   "cell_type": "code",
   "execution_count": null,
   "metadata": {},
   "outputs": [],
   "source": [
    " "
   ]
  }
 ],
 "metadata": {
  "kernelspec": {
   "display_name": "Python 3",
   "language": "python",
   "name": "python3"
  },
  "language_info": {
   "codemirror_mode": {
    "name": "ipython",
    "version": 3
   },
   "file_extension": ".py",
   "mimetype": "text/x-python",
   "name": "python",
   "nbconvert_exporter": "python",
   "pygments_lexer": "ipython3",
   "version": "3.8.5"
  }
 },
 "nbformat": 4,
 "nbformat_minor": 4
}
