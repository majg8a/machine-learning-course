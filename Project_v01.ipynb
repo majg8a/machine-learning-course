{
 "cells": [
  {
   "cell_type": "code",
   "execution_count": 1,
   "metadata": {},
   "outputs": [],
   "source": [
    "import numpy as np\n",
    "import pandas as pd\n",
    "import matplotlib as mpl\n",
    "import matplotlib.pyplot as plt\n",
    "import os"
   ]
  },
  {
   "cell_type": "code",
   "execution_count": 2,
   "metadata": {},
   "outputs": [],
   "source": [
    "import tensorflow as tf\n",
    "from tensorflow import keras"
   ]
  },
  {
   "cell_type": "code",
   "execution_count": 6,
   "metadata": {},
   "outputs": [],
   "source": [
    "train_dir = \"./train\"\n",
    "validation_dir = \"./validation\"\n",
    "test_dir = \"./test\""
   ]
  },
  {
   "cell_type": "code",
   "execution_count": 4,
   "metadata": {},
   "outputs": [],
   "source": [
    "from tensorflow.keras.preprocessing.image import ImageDataGenerator"
   ]
  },
  {
   "cell_type": "code",
   "execution_count": 68,
   "metadata": {},
   "outputs": [
    {
     "name": "stdout",
     "output_type": "stream",
     "text": [
      "Found 2000 images belonging to 2 classes.\n",
      "Found 1000 images belonging to 2 classes.\n"
     ]
    }
   ],
   "source": [
    "train_datagen = ImageDataGenerator( =1./255)\n",
    "test_datagen = ImageDataGenerator(rescale=1./255)\n",
    "\n",
    "train_generator = train_datagen.flow_from_directory(train_dir,\n",
    "                                                   target_size=(150,150),\n",
    "                                                   batch_size = 20,\n",
    "                                                   class_mode=\"binary\")\n",
    "\n",
    "validation_generator = test_datagen.flow_from_directory(validation_dir,\n",
    "                                                   target_size=(150,150),\n",
    "                                                   batch_size = 20,\n",
    "                                                   class_mode=\"binary\")"
   ]
  },
  {
   "cell_type": "code",
   "execution_count": 8,
   "metadata": {},
   "outputs": [],
   "source": [
    "from tensorflow.keras import layers\n",
    "from tensorflow.keras import models"
   ]
  },
  {
   "cell_type": "code",
   "execution_count": 10,
   "metadata": {},
   "outputs": [],
   "source": [
    "model = models.Sequential()\n",
    "\n",
    "model.add(layers.Conv2D(32,\n",
    "                        (3,3),\n",
    "                        activation=\"relu\",\n",
    "                        input_shape=(150,150,3)))\n",
    "model.add(layers.MaxPool2D((2,2)))\n",
    "\n",
    "model.add(layers.Conv2D(64,\n",
    "                        (3,3),\n",
    "                        activation=\"relu\"))\n",
    "model.add(layers.MaxPool2D((2,2)))\n",
    "\n",
    "model.add(layers.Conv2D(128,\n",
    "                        (3,3),\n",
    "                        activation=\"relu\"))\n",
    "model.add(layers.MaxPool2D((2,2)))\n",
    "\n",
    "model.add(layers.Conv2D(128,\n",
    "                        (3,3),\n",
    "                        activation=\"relu\"))\n",
    "model.add(layers.MaxPool2D((2,2)))\n",
    "\n",
    "model.add(layers.Flatten())\n",
    "\n",
    "model.add(layers.Dense(512,activation=\"relu\"))\n",
    "\n",
    "model.add(layers.Dense(1,activation=\"sigmoid\"))"
   ]
  },
  {
   "cell_type": "code",
   "execution_count": 13,
   "metadata": {},
   "outputs": [
    {
     "name": "stdout",
     "output_type": "stream",
     "text": [
      "Model: \"sequential_1\"\n",
      "_________________________________________________________________\n",
      "Layer (type)                 Output Shape              Param #   \n",
      "=================================================================\n",
      "conv2d_4 (Conv2D)            (None, 148, 148, 32)      896       \n",
      "_________________________________________________________________\n",
      "max_pooling2d_4 (MaxPooling2 (None, 74, 74, 32)        0         \n",
      "_________________________________________________________________\n",
      "conv2d_5 (Conv2D)            (None, 72, 72, 64)        18496     \n",
      "_________________________________________________________________\n",
      "max_pooling2d_5 (MaxPooling2 (None, 36, 36, 64)        0         \n",
      "_________________________________________________________________\n",
      "conv2d_6 (Conv2D)            (None, 34, 34, 128)       73856     \n",
      "_________________________________________________________________\n",
      "max_pooling2d_6 (MaxPooling2 (None, 17, 17, 128)       0         \n",
      "_________________________________________________________________\n",
      "conv2d_7 (Conv2D)            (None, 15, 15, 128)       147584    \n",
      "_________________________________________________________________\n",
      "max_pooling2d_7 (MaxPooling2 (None, 7, 7, 128)         0         \n",
      "_________________________________________________________________\n",
      "flatten_1 (Flatten)          (None, 6272)              0         \n",
      "_________________________________________________________________\n",
      "dense (Dense)                (None, 512)               3211776   \n",
      "_________________________________________________________________\n",
      "dense_1 (Dense)              (None, 1)                 513       \n",
      "=================================================================\n",
      "Total params: 3,453,121\n",
      "Trainable params: 3,453,121\n",
      "Non-trainable params: 0\n",
      "_________________________________________________________________\n"
     ]
    }
   ],
   "source": [
    "model.summary()"
   ]
  },
  {
   "cell_type": "code",
   "execution_count": 14,
   "metadata": {},
   "outputs": [],
   "source": [
    "from tensorflow.keras import optimizers\n",
    "\n",
    "model.compile(loss=\"binary_crossentropy\",\n",
    "             optimizer=optimizers.RMSprop(learning_rate=1e-4),\n",
    "              metrics=[\"acc\"]\n",
    "             )"
   ]
  },
  {
   "cell_type": "code",
   "execution_count": 15,
   "metadata": {},
   "outputs": [
    {
     "name": "stderr",
     "output_type": "stream",
     "text": [
      "C:\\Users\\Joskar\\anaconda3\\lib\\site-packages\\tensorflow\\python\\keras\\engine\\training.py:1940: UserWarning: `Model.fit_generator` is deprecated and will be removed in a future version. Please use `Model.fit`, which supports generators.\n",
      "  warnings.warn('`Model.fit_generator` is deprecated and '\n"
     ]
    },
    {
     "name": "stdout",
     "output_type": "stream",
     "text": [
      "Epoch 1/20\n",
      "100/100 [==============================] - 65s 613ms/step - loss: 0.6915 - acc: 0.5450 - val_loss: 0.6783 - val_acc: 0.5390\n",
      "Epoch 2/20\n",
      "100/100 [==============================] - 37s 364ms/step - loss: 0.6582 - acc: 0.6205 - val_loss: 0.6454 - val_acc: 0.6370\n",
      "Epoch 3/20\n",
      "100/100 [==============================] - 34s 342ms/step - loss: 0.6177 - acc: 0.6625 - val_loss: 0.6294 - val_acc: 0.6360\n",
      "Epoch 4/20\n",
      "100/100 [==============================] - 35s 347ms/step - loss: 0.5766 - acc: 0.7040 - val_loss: 0.5882 - val_acc: 0.6750\n",
      "Epoch 5/20\n",
      "100/100 [==============================] - 35s 350ms/step - loss: 0.5446 - acc: 0.7250 - val_loss: 0.5673 - val_acc: 0.7120\n",
      "Epoch 6/20\n",
      "100/100 [==============================] - 34s 340ms/step - loss: 0.5107 - acc: 0.7500 - val_loss: 0.5714 - val_acc: 0.6930\n",
      "Epoch 7/20\n",
      "100/100 [==============================] - 34s 342ms/step - loss: 0.4827 - acc: 0.7670 - val_loss: 0.5562 - val_acc: 0.6970\n",
      "Epoch 8/20\n",
      "100/100 [==============================] - 34s 341ms/step - loss: 0.4592 - acc: 0.7845 - val_loss: 0.5498 - val_acc: 0.7100\n",
      "Epoch 9/20\n",
      "100/100 [==============================] - 34s 340ms/step - loss: 0.4243 - acc: 0.8040 - val_loss: 0.5379 - val_acc: 0.7260\n",
      "Epoch 10/20\n",
      "100/100 [==============================] - 34s 339ms/step - loss: 0.3983 - acc: 0.8250 - val_loss: 0.5846 - val_acc: 0.6850\n",
      "Epoch 11/20\n",
      "100/100 [==============================] - 34s 341ms/step - loss: 0.3727 - acc: 0.8410 - val_loss: 0.5530 - val_acc: 0.7250\n",
      "Epoch 12/20\n",
      "100/100 [==============================] - 34s 339ms/step - loss: 0.3521 - acc: 0.8500 - val_loss: 0.5448 - val_acc: 0.7380\n",
      "Epoch 13/20\n",
      "100/100 [==============================] - 34s 341ms/step - loss: 0.3353 - acc: 0.8615 - val_loss: 0.5646 - val_acc: 0.7320\n",
      "Epoch 14/20\n",
      "100/100 [==============================] - 34s 340ms/step - loss: 0.3075 - acc: 0.8710 - val_loss: 0.5746 - val_acc: 0.7230\n",
      "Epoch 15/20\n",
      "100/100 [==============================] - 35s 348ms/step - loss: 0.2846 - acc: 0.8810 - val_loss: 0.6041 - val_acc: 0.7330\n",
      "Epoch 16/20\n",
      "100/100 [==============================] - 34s 340ms/step - loss: 0.2622 - acc: 0.8960 - val_loss: 0.6102 - val_acc: 0.7280\n",
      "Epoch 17/20\n",
      "100/100 [==============================] - 34s 345ms/step - loss: 0.2402 - acc: 0.9100 - val_loss: 0.6132 - val_acc: 0.7390\n",
      "Epoch 18/20\n",
      "100/100 [==============================] - 34s 343ms/step - loss: 0.2221 - acc: 0.9140 - val_loss: 0.6351 - val_acc: 0.7270\n",
      "Epoch 19/20\n",
      "100/100 [==============================] - 34s 344ms/step - loss: 0.2026 - acc: 0.9295 - val_loss: 0.6324 - val_acc: 0.7450\n",
      "Epoch 20/20\n",
      "100/100 [==============================] - 34s 344ms/step - loss: 0.1833 - acc: 0.9400 - val_loss: 0.6928 - val_acc: 0.7360\n"
     ]
    }
   ],
   "source": [
    "history = model.fit_generator(train_generator,\n",
    "                              steps_per_epoch=100,\n",
    "                              epochs=20,\n",
    "                              validation_data=validation_generator,\n",
    "                              validation_steps=50\n",
    "                             )"
   ]
  },
  {
   "cell_type": "code",
   "execution_count": 17,
   "metadata": {},
   "outputs": [
    {
     "data": {
      "image/png": "[encoded data removed]",
      "text/plain": [
       "<Figure size 576x432 with 1 Axes>"
      ]
     },
     "metadata": {
      "needs_background": "light"
     },
     "output_type": "display_data"
    }
   ],
   "source": [
    "pd.DataFrame(history.history).plot(figsize=(8,6))\n",
    "plt.grid(True)\n",
    "plt.gca().set_ylim(0,1)\n",
    "plt.show()"
   ]
  },
  {
   "cell_type": "code",
   "execution_count": 18,
   "metadata": {},
   "outputs": [],
   "source": [
    "model.save(\"model.h5\")"
   ]
  },
  {
   "cell_type": "code",
   "execution_count": 46,
   "metadata": {},
   "outputs": [],
   "source": [
    "from tensorflow.keras import backend as k\n",
    "\n",
    "k.clear_session()\n",
    "del model"
   ]
  },
  {
   "cell_type": "code",
   "execution_count": 70,
   "metadata": {},
   "outputs": [
    {
     "name": "stdout",
     "output_type": "stream",
     "text": [
      "Found 2000 images belonging to 2 classes.\n",
      "Found 1000 images belonging to 2 classes.\n"
     ]
    }
   ],
   "source": [
    "train_datagen = ImageDataGenerator(\n",
    "    rescale=1./255,\n",
    "    rotation_range=40,\n",
    "    width_shift_range=.2,\n",
    "    height_shift_range=.2,\n",
    "    shear_range=.2,\n",
    "    zoom_range=.2,\n",
    "    horizontal_flip=True\n",
    ")\n",
    "\n",
    "test_datagen =  ImageDataGenerator(rescale=1./255)\n",
    "\n",
    "train_generator = train_datagen.flow_from_directory(train_dir,\n",
    "                                                   target_size=(150,150),\n",
    "                                                   batch_size=32,\n",
    "                                                   class_mode=\"binary\")\n",
    "\n",
    "validation_generator = test_datagen.flow_from_directory(validation_dir,\n",
    "                                                   target_size=(150,150),\n",
    "                                                   batch_size=32,\n",
    "                                                   class_mode=\"binary\")"
   ]
  },
  {
   "cell_type": "code",
   "execution_count": 48,
   "metadata": {},
   "outputs": [],
   "source": [
    "model = models.Sequential()\n",
    "model.add(layers.Conv2D(32,\n",
    "                        (3,3),\n",
    "                        activation=\"relu\",\n",
    "                        input_shape=(150,150,3)))\n",
    "model.add(layers.MaxPool2D((2,2)))\n",
    "model.add(layers.Conv2D(64,\n",
    "                        (3,3),\n",
    "                        activation=\"relu\"))\n",
    "model.add(layers.MaxPool2D((2,2)))\n",
    "model.add(layers.Conv2D(128,\n",
    "                        (3,3),\n",
    "                        activation=\"relu\"))\n",
    "model.add(layers.MaxPool2D((2,2)))\n",
    "model.add(layers.Conv2D(128,\n",
    "                        (3,3),\n",
    "                        activation=\"relu\"))\n",
    "model.add(layers.MaxPool2D((2,2)))\n",
    "model.add(layers.Flatten())\n",
    "model.add(layers.Dropout(.5))\n",
    "model.add(layers.Dense(512,activation=\"relu\"))\n",
    "model.add(layers.Dense(1,activation=\"sigmoid\"))\n",
    "\n",
    "model.compile(loss=\"binary_crossentropy\",\n",
    "             optimizer=optimizers.RMSprop(learning_rate=1e-4),\n",
    "              metrics=[\"acc\"]\n",
    "             )"
   ]
  },
  {
   "cell_type": "code",
   "execution_count": 71,
   "metadata": {},
   "outputs": [
    {
     "name": "stdout",
     "output_type": "stream",
     "text": [
      "32\n"
     ]
    }
   ],
   "source": [
    "print(len(validation_generator))"
   ]
  },
  {
   "cell_type": "code",
   "execution_count": 63,
   "metadata": {},
   "outputs": [
    {
     "name": "stdout",
     "output_type": "stream",
     "text": [
      "Epoch 1/100\n",
      "63/63 [==============================] - 60s 941ms/step - loss: 0.4097 - acc: 0.8195\n",
      "Epoch 2/100\n",
      "63/63 [==============================] - 61s 968ms/step - loss: 0.3972 - acc: 0.8205\n",
      "Epoch 3/100\n",
      "63/63 [==============================] - 57s 903ms/step - loss: 0.4020 - acc: 0.8070\n",
      "Epoch 4/100\n",
      "63/63 [==============================] - 58s 913ms/step - loss: 0.3982 - acc: 0.8145\n",
      "Epoch 5/100\n",
      "63/63 [==============================] - 57s 902ms/step - loss: 0.3974 - acc: 0.8290\n",
      "Epoch 6/100\n",
      "63/63 [==============================] - 57s 917ms/step - loss: 0.3952 - acc: 0.8215\n",
      "Epoch 7/100\n",
      "63/63 [==============================] - 57s 897ms/step - loss: 0.4049 - acc: 0.8110\n",
      "Epoch 8/100\n",
      "63/63 [==============================] - 58s 923ms/step - loss: 0.3961 - acc: 0.8160\n",
      "Epoch 9/100\n",
      "63/63 [==============================] - 58s 913ms/step - loss: 0.3808 - acc: 0.8255\n",
      "Epoch 10/100\n",
      "63/63 [==============================] - 58s 909ms/step - loss: 0.3925 - acc: 0.8235\n",
      "Epoch 11/100\n",
      "63/63 [==============================] - 57s 904ms/step - loss: 0.3911 - acc: 0.8290\n",
      "Epoch 12/100\n",
      "63/63 [==============================] - 58s 910ms/step - loss: 0.3912 - acc: 0.8215\n",
      "Epoch 13/100\n",
      "63/63 [==============================] - 57s 904ms/step - loss: 0.3913 - acc: 0.8270\n",
      "Epoch 14/100\n",
      "63/63 [==============================] - 57s 906ms/step - loss: 0.4009 - acc: 0.8190\n",
      "Epoch 15/100\n",
      "63/63 [==============================] - 57s 905ms/step - loss: 0.3876 - acc: 0.8220\n",
      "Epoch 16/100\n",
      "63/63 [==============================] - 58s 911ms/step - loss: 0.3813 - acc: 0.8265\n",
      "Epoch 17/100\n",
      "63/63 [==============================] - 57s 907ms/step - loss: 0.3943 - acc: 0.8265\n",
      "Epoch 18/100\n",
      "63/63 [==============================] - 57s 903ms/step - loss: 0.4025 - acc: 0.8175\n",
      "Epoch 19/100\n",
      "63/63 [==============================] - 57s 905ms/step - loss: 0.3863 - acc: 0.8290\n",
      "Epoch 20/100\n",
      "63/63 [==============================] - 57s 906ms/step - loss: 0.3743 - acc: 0.8230\n",
      "Epoch 21/100\n",
      "63/63 [==============================] - 57s 903ms/step - loss: 0.3754 - acc: 0.8385\n",
      "Epoch 22/100\n",
      "63/63 [==============================] - 57s 905ms/step - loss: 0.3913 - acc: 0.8170\n",
      "Epoch 23/100\n",
      "63/63 [==============================] - 58s 912ms/step - loss: 0.3929 - acc: 0.8260\n",
      "Epoch 24/100\n",
      "63/63 [==============================] - 57s 906ms/step - loss: 0.3800 - acc: 0.8265\n",
      "Epoch 25/100\n",
      "63/63 [==============================] - 56s 885ms/step - loss: 0.3676 - acc: 0.8355\n",
      "Epoch 26/100\n",
      "63/63 [==============================] - 56s 888ms/step - loss: 0.3731 - acc: 0.8255\n",
      "Epoch 27/100\n",
      "63/63 [==============================] - 56s 886ms/step - loss: 0.3564 - acc: 0.8445\n",
      "Epoch 28/100\n",
      "63/63 [==============================] - 56s 884ms/step - loss: 0.3768 - acc: 0.8305\n",
      "Epoch 29/100\n",
      "63/63 [==============================] - 56s 888ms/step - loss: 0.3725 - acc: 0.8415\n",
      "Epoch 30/100\n",
      "63/63 [==============================] - 55s 877ms/step - loss: 0.3757 - acc: 0.8300\n",
      "Epoch 31/100\n",
      "63/63 [==============================] - 56s 885ms/step - loss: 0.3641 - acc: 0.8390\n",
      "Epoch 32/100\n",
      "63/63 [==============================] - 56s 878ms/step - loss: 0.3592 - acc: 0.8540\n",
      "Epoch 33/100\n",
      "63/63 [==============================] - 56s 882ms/step - loss: 0.3553 - acc: 0.8405\n",
      "Epoch 34/100\n",
      "63/63 [==============================] - 55s 875ms/step - loss: 0.3591 - acc: 0.8415\n",
      "Epoch 35/100\n",
      "63/63 [==============================] - 56s 883ms/step - loss: 0.3729 - acc: 0.8410\n",
      "Epoch 36/100\n",
      "63/63 [==============================] - 56s 881ms/step - loss: 0.3565 - acc: 0.8455\n",
      "Epoch 37/100\n",
      "63/63 [==============================] - 56s 883ms/step - loss: 0.3708 - acc: 0.8275\n",
      "Epoch 38/100\n",
      "63/63 [==============================] - 56s 882ms/step - loss: 0.3656 - acc: 0.8305\n",
      "Epoch 39/100\n",
      "63/63 [==============================] - 56s 883ms/step - loss: 0.3662 - acc: 0.8395\n",
      "Epoch 40/100\n",
      "63/63 [==============================] - 57s 894ms/step - loss: 0.3529 - acc: 0.8430\n",
      "Epoch 41/100\n",
      "63/63 [==============================] - 56s 885ms/step - loss: 0.3487 - acc: 0.8500\n",
      "Epoch 42/100\n",
      "63/63 [==============================] - 56s 878ms/step - loss: 0.3583 - acc: 0.8340\n",
      "Epoch 43/100\n",
      "63/63 [==============================] - 56s 883ms/step - loss: 0.3494 - acc: 0.8500\n",
      "Epoch 44/100\n",
      "63/63 [==============================] - 56s 881ms/step - loss: 0.3431 - acc: 0.8465\n",
      "Epoch 45/100\n",
      "63/63 [==============================] - 56s 880ms/step - loss: 0.3475 - acc: 0.8395\n",
      "Epoch 46/100\n",
      "63/63 [==============================] - 55s 874ms/step - loss: 0.3484 - acc: 0.8455\n",
      "Epoch 47/100\n",
      "63/63 [==============================] - 56s 883ms/step - loss: 0.3461 - acc: 0.8515\n",
      "Epoch 48/100\n",
      "63/63 [==============================] - 56s 883ms/step - loss: 0.3665 - acc: 0.8355\n",
      "Epoch 49/100\n",
      "63/63 [==============================] - 56s 883ms/step - loss: 0.3511 - acc: 0.8460\n",
      "Epoch 50/100\n",
      "63/63 [==============================] - 56s 879ms/step - loss: 0.3528 - acc: 0.8495\n",
      "Epoch 51/100\n",
      "63/63 [==============================] - 56s 888ms/step - loss: 0.3525 - acc: 0.8455\n",
      "Epoch 52/100\n",
      "63/63 [==============================] - 56s 878ms/step - loss: 0.3563 - acc: 0.8410\n",
      "Epoch 53/100\n",
      "63/63 [==============================] - 56s 882ms/step - loss: 0.3511 - acc: 0.8565\n",
      "Epoch 54/100\n",
      "63/63 [==============================] - 56s 877ms/step - loss: 0.3562 - acc: 0.8410\n",
      "Epoch 55/100\n",
      "63/63 [==============================] - 56s 882ms/step - loss: 0.3342 - acc: 0.8495\n",
      "Epoch 56/100\n",
      "63/63 [==============================] - 56s 884ms/step - loss: 0.3547 - acc: 0.8415\n",
      "Epoch 57/100\n",
      "63/63 [==============================] - 56s 884ms/step - loss: 0.3201 - acc: 0.8590\n",
      "Epoch 58/100\n",
      "63/63 [==============================] - 56s 883ms/step - loss: 0.3349 - acc: 0.8515\n",
      "Epoch 59/100\n",
      "63/63 [==============================] - 56s 886ms/step - loss: 0.3408 - acc: 0.8545\n",
      "Epoch 60/100\n",
      "63/63 [==============================] - 56s 882ms/step - loss: 0.3438 - acc: 0.8560\n",
      "Epoch 61/100\n",
      "63/63 [==============================] - 56s 881ms/step - loss: 0.3341 - acc: 0.8535\n",
      "Epoch 62/100\n",
      "63/63 [==============================] - 55s 876ms/step - loss: 0.3195 - acc: 0.8480\n",
      "Epoch 63/100\n",
      "63/63 [==============================] - 56s 886ms/step - loss: 0.3384 - acc: 0.8495\n",
      "Epoch 64/100\n",
      "63/63 [==============================] - 56s 888ms/step - loss: 0.3438 - acc: 0.8505\n",
      "Epoch 65/100\n",
      "63/63 [==============================] - 56s 887ms/step - loss: 0.3339 - acc: 0.8610\n",
      "Epoch 66/100\n",
      "63/63 [==============================] - 56s 881ms/step - loss: 0.3317 - acc: 0.8545\n",
      "Epoch 67/100\n",
      "63/63 [==============================] - 56s 879ms/step - loss: 0.3450 - acc: 0.8420\n",
      "Epoch 68/100\n",
      "63/63 [==============================] - 56s 880ms/step - loss: 0.3228 - acc: 0.8585\n",
      "Epoch 69/100\n",
      "63/63 [==============================] - 56s 878ms/step - loss: 0.3089 - acc: 0.8670\n",
      "Epoch 70/100\n",
      "63/63 [==============================] - 56s 887ms/step - loss: 0.3176 - acc: 0.8705\n",
      "Epoch 71/100\n",
      "63/63 [==============================] - 54s 859ms/step - loss: 0.3378 - acc: 0.8515\n",
      "Epoch 72/100\n",
      "63/63 [==============================] - 56s 888ms/step - loss: 0.3333 - acc: 0.8565\n",
      "Epoch 73/100\n",
      "63/63 [==============================] - 56s 885ms/step - loss: 0.3235 - acc: 0.8555\n",
      "Epoch 74/100\n",
      "63/63 [==============================] - 56s 886ms/step - loss: 0.3029 - acc: 0.8680\n",
      "Epoch 75/100\n",
      "63/63 [==============================] - 56s 884ms/step - loss: 0.3090 - acc: 0.8595\n",
      "Epoch 76/100\n",
      "63/63 [==============================] - 56s 887ms/step - loss: 0.3178 - acc: 0.8615\n",
      "Epoch 77/100\n",
      "63/63 [==============================] - 56s 885ms/step - loss: 0.3245 - acc: 0.8560\n",
      "Epoch 78/100\n",
      "63/63 [==============================] - 56s 887ms/step - loss: 0.3101 - acc: 0.8635\n",
      "Epoch 79/100\n",
      "63/63 [==============================] - 56s 885ms/step - loss: 0.3053 - acc: 0.8750\n",
      "Epoch 80/100\n",
      "63/63 [==============================] - 56s 878ms/step - loss: 0.3134 - acc: 0.8560\n",
      "Epoch 81/100\n",
      "63/63 [==============================] - 56s 892ms/step - loss: 0.3064 - acc: 0.8705\n",
      "Epoch 82/100\n",
      "63/63 [==============================] - 56s 884ms/step - loss: 0.3113 - acc: 0.8590\n",
      "Epoch 83/100\n",
      "63/63 [==============================] - 56s 884ms/step - loss: 0.3155 - acc: 0.8645\n",
      "Epoch 84/100\n"
     ]
    },
    {
     "name": "stdout",
     "output_type": "stream",
     "text": [
      "63/63 [==============================] - 56s 879ms/step - loss: 0.3242 - acc: 0.8600\n",
      "Epoch 85/100\n",
      "63/63 [==============================] - 56s 879ms/step - loss: 0.3081 - acc: 0.8620\n",
      "Epoch 86/100\n",
      "63/63 [==============================] - 55s 869ms/step - loss: 0.3163 - acc: 0.8665\n",
      "Epoch 87/100\n",
      "63/63 [==============================] - 56s 879ms/step - loss: 0.3036 - acc: 0.8735\n",
      "Epoch 88/100\n",
      "63/63 [==============================] - 55s 885ms/step - loss: 0.3218 - acc: 0.8510\n",
      "Epoch 89/100\n",
      "63/63 [==============================] - 56s 880ms/step - loss: 0.2986 - acc: 0.8750\n",
      "Epoch 90/100\n",
      "63/63 [==============================] - 56s 884ms/step - loss: 0.3276 - acc: 0.8550\n",
      "Epoch 91/100\n",
      "63/63 [==============================] - 56s 887ms/step - loss: 0.3106 - acc: 0.8665\n",
      "Epoch 92/100\n",
      "63/63 [==============================] - 56s 882ms/step - loss: 0.3082 - acc: 0.8640\n",
      "Epoch 93/100\n",
      "63/63 [==============================] - 56s 890ms/step - loss: 0.2867 - acc: 0.8730\n",
      "Epoch 94/100\n",
      "63/63 [==============================] - 56s 881ms/step - loss: 0.2992 - acc: 0.8695\n",
      "Epoch 95/100\n",
      "63/63 [==============================] - 56s 888ms/step - loss: 0.3101 - acc: 0.8625\n",
      "Epoch 96/100\n",
      "63/63 [==============================] - 56s 884ms/step - loss: 0.2962 - acc: 0.8760\n",
      "Epoch 97/100\n",
      "63/63 [==============================] - 56s 887ms/step - loss: 0.2874 - acc: 0.8765\n",
      "Epoch 98/100\n",
      "63/63 [==============================] - 56s 887ms/step - loss: 0.3171 - acc: 0.8645\n",
      "Epoch 99/100\n",
      "63/63 [==============================] - 56s 887ms/step - loss: 0.2946 - acc: 0.8695\n",
      "Epoch 100/100\n",
      "63/63 [==============================] - 55s 877ms/step - loss: 0.2939 - acc: 0.8790\n"
     ]
    }
   ],
   "source": [
    "history = model.fit_generator(train_generator,\n",
    "                    steps_per_epoch=63,\n",
    "                    epochs=100,\n",
    "                    validation_data=validation_generator,\n",
    "                    validation_steps=32)"
   ]
  },
  {
   "cell_type": "code",
   "execution_count": 64,
   "metadata": {},
   "outputs": [],
   "source": [
    "model.save(\"model_1.h5\")"
   ]
  },
  {
   "cell_type": "code",
   "execution_count": 66,
   "metadata": {},
   "outputs": [
    {
     "data": {
      "image/png": "[encoded data removed]",
      "text/plain": [
       "<Figure size 576x432 with 1 Axes>"
      ]
     },
     "metadata": {
      "needs_background": "light"
     },
     "output_type": "display_data"
    }
   ],
   "source": [
    "pd.DataFrame(history.history).plot(figsize=(8,6))\n",
    "plt.grid(True)\n",
    "plt.gca().set_ylim(0,1)\n",
    "plt.show()"
   ]
  },
  {
   "cell_type": "code",
   "execution_count": 96,
   "metadata": {},
   "outputs": [
    {
     "name": "stdout",
     "output_type": "stream",
     "text": [
      "Found 3 images belonging to 1 classes.\n"
     ]
    }
   ],
   "source": [
    "subject_datagen =  ImageDataGenerator(rescale=1./255)\n",
    "\n",
    "subject_generator = subject_datagen.flow_from_directory(\"./subjects\",\n",
    "                                                   target_size=(150,150),\n",
    "                                                   batch_size=32,\n",
    "                                                   class_mode=\"binary\")\n"
   ]
  },
  {
   "cell_type": "code",
   "execution_count": 114,
   "metadata": {},
   "outputs": [],
   "source": [
    "y_test_pred = model.predict(subject_generator)"
   ]
  },
  {
   "cell_type": "code",
   "execution_count": 115,
   "metadata": {},
   "outputs": [
    {
     "data": {
      "text/plain": [
       "array([[0.98826516],\n",
       "       [0.78143454],\n",
       "       [0.01891035]], dtype=float32)"
      ]
     },
     "execution_count": 115,
     "metadata": {},
     "output_type": "execute_result"
    }
   ],
   "source": [
    "y_test_pred"
   ]
  },
  {
   "cell_type": "markdown",
   "metadata": {},
   "source": [
    "## VGG16 "
   ]
  },
  {
   "cell_type": "code",
   "execution_count": 117,
   "metadata": {},
   "outputs": [
    {
     "name": "stdout",
     "output_type": "stream",
     "text": [
      "Found 2000 images belonging to 2 classes.\n",
      "Found 1000 images belonging to 2 classes.\n"
     ]
    }
   ],
   "source": [
    "train_datagen = ImageDataGenerator(\n",
    "    rescale=1./255,\n",
    "    rotation_range=40,\n",
    "    width_shift_range=.2,\n",
    "    height_shift_range=.2,\n",
    "    shear_range=.2,\n",
    "    zoom_range=.2,\n",
    "    horizontal_flip=True\n",
    ")\n",
    "\n",
    "test_datagen =  ImageDataGenerator(rescale=1./255)\n",
    "\n",
    "train_generator = train_datagen.flow_from_directory(train_dir,\n",
    "                                                   target_size=(150,150),\n",
    "                                                   batch_size=20,\n",
    "                                                   class_mode=\"binary\")\n",
    "\n",
    "validation_generator = test_datagen.flow_from_directory(validation_dir,\n",
    "                                                   target_size=(150,150),\n",
    "                                                   batch_size=20,\n",
    "                                                   class_mode=\"binary\")"
   ]
  },
  {
   "cell_type": "code",
   "execution_count": 118,
   "metadata": {},
   "outputs": [
    {
     "name": "stdout",
     "output_type": "stream",
     "text": [
      "Downloading data from https://storage.googleapis.com/tensorflow/keras-applications/vgg16/vgg16_weights_tf_dim_ordering_tf_kernels_notop.h5\n",
      "58892288/58889256 [==============================] - 13s 0us/step\n"
     ]
    }
   ],
   "source": [
    "from tensorflow.keras.applications import VGG16\n",
    "\n",
    "conv_base = VGG16(weights=\"imagenet\",\n",
    "                 include_top=False,\n",
    "                 input_shape=(150,150,3))"
   ]
  },
  {
   "cell_type": "code",
   "execution_count": 119,
   "metadata": {},
   "outputs": [
    {
     "name": "stdout",
     "output_type": "stream",
     "text": [
      "Model: \"vgg16\"\n",
      "_________________________________________________________________\n",
      "Layer (type)                 Output Shape              Param #   \n",
      "=================================================================\n",
      "input_1 (InputLayer)         [(None, 150, 150, 3)]     0         \n",
      "_________________________________________________________________\n",
      "block1_conv1 (Conv2D)        (None, 150, 150, 64)      1792      \n",
      "_________________________________________________________________\n",
      "block1_conv2 (Conv2D)        (None, 150, 150, 64)      36928     \n",
      "_________________________________________________________________\n",
      "block1_pool (MaxPooling2D)   (None, 75, 75, 64)        0         \n",
      "_________________________________________________________________\n",
      "block2_conv1 (Conv2D)        (None, 75, 75, 128)       73856     \n",
      "_________________________________________________________________\n",
      "block2_conv2 (Conv2D)        (None, 75, 75, 128)       147584    \n",
      "_________________________________________________________________\n",
      "block2_pool (MaxPooling2D)   (None, 37, 37, 128)       0         \n",
      "_________________________________________________________________\n",
      "block3_conv1 (Conv2D)        (None, 37, 37, 256)       295168    \n",
      "_________________________________________________________________\n",
      "block3_conv2 (Conv2D)        (None, 37, 37, 256)       590080    \n",
      "_________________________________________________________________\n",
      "block3_conv3 (Conv2D)        (None, 37, 37, 256)       590080    \n",
      "_________________________________________________________________\n",
      "block3_pool (MaxPooling2D)   (None, 18, 18, 256)       0         \n",
      "_________________________________________________________________\n",
      "block4_conv1 (Conv2D)        (None, 18, 18, 512)       1180160   \n",
      "_________________________________________________________________\n",
      "block4_conv2 (Conv2D)        (None, 18, 18, 512)       2359808   \n",
      "_________________________________________________________________\n",
      "block4_conv3 (Conv2D)        (None, 18, 18, 512)       2359808   \n",
      "_________________________________________________________________\n",
      "block4_pool (MaxPooling2D)   (None, 9, 9, 512)         0         \n",
      "_________________________________________________________________\n",
      "block5_conv1 (Conv2D)        (None, 9, 9, 512)         2359808   \n",
      "_________________________________________________________________\n",
      "block5_conv2 (Conv2D)        (None, 9, 9, 512)         2359808   \n",
      "_________________________________________________________________\n",
      "block5_conv3 (Conv2D)        (None, 9, 9, 512)         2359808   \n",
      "_________________________________________________________________\n",
      "block5_pool (MaxPooling2D)   (None, 4, 4, 512)         0         \n",
      "=================================================================\n",
      "Total params: 14,714,688\n",
      "Trainable params: 14,714,688\n",
      "Non-trainable params: 0\n",
      "_________________________________________________________________\n"
     ]
    }
   ],
   "source": [
    "conv_base.summary()"
   ]
  },
  {
   "cell_type": "code",
   "execution_count": 132,
   "metadata": {},
   "outputs": [],
   "source": [
    "model = models.Sequential()\n",
    "model.add(conv_base)\n",
    "model.add(layers.Flatten())\n",
    "model.add(layers.Dense(256,activation=\"relu\"))\n",
    "model.add(layers.Dense(1,activation=\"sigmoid\"))"
   ]
  },
  {
   "cell_type": "code",
   "execution_count": 135,
   "metadata": {},
   "outputs": [
    {
     "name": "stdout",
     "output_type": "stream",
     "text": [
      "Model: \"sequential_5\"\n",
      "_________________________________________________________________\n",
      "Layer (type)                 Output Shape              Param #   \n",
      "=================================================================\n",
      "vgg16 (Functional)           (None, 4, 4, 512)         14714688  \n",
      "_________________________________________________________________\n",
      "flatten_5 (Flatten)          (None, 8192)              0         \n",
      "_________________________________________________________________\n",
      "dense_10 (Dense)             (None, 256)               2097408   \n",
      "_________________________________________________________________\n",
      "dense_11 (Dense)             (None, 1)                 257       \n",
      "=================================================================\n",
      "Total params: 16,812,353\n",
      "Trainable params: 2,097,665\n",
      "Non-trainable params: 14,714,688\n",
      "_________________________________________________________________\n"
     ]
    }
   ],
   "source": [
    "model.summary()"
   ]
  },
  {
   "cell_type": "code",
   "execution_count": 136,
   "metadata": {},
   "outputs": [],
   "source": [
    "conv_base.trainable = False;"
   ]
  },
  {
   "cell_type": "code",
   "execution_count": 137,
   "metadata": {},
   "outputs": [],
   "source": [
    "model.compile(loss=\"binary_crossentropy\",\n",
    "              optimizer=optimizers.RMSprop(learning_rate=2e-5),\n",
    "              metrics=[\"acc\"])"
   ]
  },
  {
   "cell_type": "code",
   "execution_count": 138,
   "metadata": {},
   "outputs": [],
   "source": [
    "checkpoint_cb = keras.callbacks.ModelCheckpoint(\"cnn_project_models_cp/CNN_project-{epoch:02d}.h5\")"
   ]
  },
  {
   "cell_type": "code",
   "execution_count": null,
   "metadata": {},
   "outputs": [],
   "source": [
    "history = model.fit(train_datagen,\n",
    "                    steps_per_epoch=100,epochs=30,\n",
    "                    validation_data=validation_generator,\n",
    "                    validation_steps=50,callbacks=[checkpoint_cb])"
   ]
  }
 ],
 "metadata": {
  "kernelspec": {
   "display_name": "Python 3",
   "language": "python",
   "name": "python3"
  },
  "language_info": {
   "codemirror_mode": {
    "name": "ipython",
    "version": 3
   },
   "file_extension": ".py",
   "mimetype": "text/x-python",
   "name": "python",
   "nbconvert_exporter": "python",
   "pygments_lexer": "ipython3",
   "version": "3.8.5"
  }
 },
 "nbformat": 4,
 "nbformat_minor": 4
}
